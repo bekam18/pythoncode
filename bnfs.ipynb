{
 "cells": [
  {
   "cell_type": "code",
   "execution_count": 1,
   "metadata": {},
   "outputs": [
    {
     "name": "stdout",
     "output_type": "stream",
     "text": [
      "Visiting: A\n",
      "Visiting: B\n",
      "Visiting: C\n",
      "Visiting: D\n",
      "Visiting: E\n",
      "Visiting: F\n",
      "\n",
      "BFS Traversal Order: ['A', 'B', 'C', 'D', 'E', 'F']\n"
     ]
    }
   ],
   "source": [
    "from collections import deque\n",
    "\n",
    "def bfs(graph, start_node):\n",
    "    \"\"\"\n",
    "    Perform Breadth-First Search (BFS) on a graph.\n",
    "\n",
    "    :param graph: Dictionary representing the adjacency list of the graph.\n",
    "    :param start_node: Node to start the BFS traversal from.\n",
    "    :return: List of nodes in the order they are visited.\n",
    "    \"\"\"\n",
    "    visited = set()       # To keep track of visited nodes\n",
    "    queue = deque([start_node])  # Queue to manage the nodes to explore\n",
    "    traversal_order = []  # List to store the order of traversal\n",
    "\n",
    "    while queue:\n",
    "        # Get the next node from the queue\n",
    "        current_node = queue.popleft()\n",
    "        \n",
    "        # If the node has not been visited, process it\n",
    "        if current_node not in visited:\n",
    "            print(f\"Visiting: {current_node}\")  # Debug output\n",
    "            visited.add(current_node)          # Mark the node as visited\n",
    "            traversal_order.append(current_node)  # Add to traversal order\n",
    "            \n",
    "            # Add all unvisited neighbors to the queue\n",
    "            for neighbor in graph[current_node]:\n",
    "                if neighbor not in visited:\n",
    "                    queue.append(neighbor)\n",
    "\n",
    "    return traversal_order\n",
    "\n",
    "# Example Usage\n",
    "if __name__ == \"__main__\":\n",
    "    # Graph represented as an adjacency list\n",
    "    graph = {\n",
    "        'A': ['B', 'C'],\n",
    "        'B': ['A', 'D', 'E'],\n",
    "        'C': ['A', 'F'],\n",
    "        'D': ['B'],\n",
    "        'E': ['B', 'F'],\n",
    "        'F': ['C', 'E']\n",
    "    }\n",
    "\n",
    "    # Perform BFS starting from node 'A'\n",
    "    result = bfs(graph, 'A')\n",
    "    print(\"\\nBFS Traversal Order:\", result)\n"
   ]
  }
 ],
 "metadata": {
  "kernelspec": {
   "display_name": "Python 3",
   "language": "python",
   "name": "python3"
  },
  "language_info": {
   "codemirror_mode": {
    "name": "ipython",
    "version": 3
   },
   "file_extension": ".py",
   "mimetype": "text/x-python",
   "name": "python",
   "nbconvert_exporter": "python",
   "pygments_lexer": "ipython3",
   "version": "3.13.0"
  }
 },
 "nbformat": 4,
 "nbformat_minor": 2
}
